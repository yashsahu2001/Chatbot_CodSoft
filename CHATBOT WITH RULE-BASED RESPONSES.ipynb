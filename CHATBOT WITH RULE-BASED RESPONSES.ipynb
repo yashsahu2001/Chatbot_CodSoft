{
 "cells": [
  {
   "cell_type": "markdown",
   "id": "245836cb",
   "metadata": {},
   "source": [
    "### Step 1: Install Required Libraries"
   ]
  },
  {
   "cell_type": "code",
   "execution_count": 2,
   "id": "52abba04",
   "metadata": {},
   "outputs": [
    {
     "name": "stdout",
     "output_type": "stream",
     "text": [
      "Requirement already satisfied: nltk in c:\\users\\dell\\anaconda3\\lib\\site-packages (3.8.1)\n",
      "Requirement already satisfied: click in c:\\users\\dell\\anaconda3\\lib\\site-packages (from nltk) (8.0.4)\n",
      "Requirement already satisfied: joblib in c:\\users\\dell\\anaconda3\\lib\\site-packages (from nltk) (1.2.0)\n",
      "Requirement already satisfied: regex>=2021.8.3 in c:\\users\\dell\\anaconda3\\lib\\site-packages (from nltk) (2022.7.9)\n",
      "Requirement already satisfied: tqdm in c:\\users\\dell\\anaconda3\\lib\\site-packages (from nltk) (4.65.0)\n",
      "Requirement already satisfied: colorama in c:\\users\\dell\\anaconda3\\lib\\site-packages (from click->nltk) (0.4.6)\n",
      "Note: you may need to restart the kernel to use updated packages.\n"
     ]
    }
   ],
   "source": [
    "pip install nltk"
   ]
  },
  {
   "cell_type": "markdown",
   "id": "fedbf258",
   "metadata": {},
   "source": [
    "### Step 2: Import Libraries and Define Rules"
   ]
  },
  {
   "cell_type": "code",
   "execution_count": 3,
   "id": "d0b29e8a",
   "metadata": {},
   "outputs": [
    {
     "name": "stderr",
     "output_type": "stream",
     "text": [
      "[nltk_data] Downloading package punkt to\n",
      "[nltk_data]     C:\\Users\\dell\\AppData\\Roaming\\nltk_data...\n",
      "[nltk_data]   Package punkt is already up-to-date!\n"
     ]
    }
   ],
   "source": [
    "import re\n",
    "import nltk\n",
    "\n",
    "# Download NLTK data (if not already downloaded)\n",
    "nltk.download('punkt')\n",
    "\n",
    "# Define chatbot rules\n",
    "rules = {\n",
    "    r'hello|hi|hey|howdy': 'Hello! I am your chatbot.',\n",
    "    r'what is your name|who are you': 'I am a simple chatbot.',\n",
    "    r'how are you': 'I am just a computer program, so I don\\'t have feelings, but thanks for asking!',\n",
    "    r'bye|goodbye': 'Goodbye! Have a great day!'\n",
    "}"
   ]
  },
  {
   "cell_type": "markdown",
   "id": "efd845ba",
   "metadata": {},
   "source": [
    "### Step 3: Create a Function to Respond to User Input"
   ]
  },
  {
   "cell_type": "code",
   "execution_count": 5,
   "id": "a93498ce",
   "metadata": {},
   "outputs": [
    {
     "name": "stdout",
     "output_type": "stream",
     "text": [
      "You: What is your name\n",
      "Chatbot: I am a simple chatbot.\n"
     ]
    }
   ],
   "source": [
    "def chatbot_response(user_input):\n",
    "    for pattern, response in rules.items():\n",
    "        if re.search(pattern, user_input, re.IGNORECASE):\n",
    "            return response\n",
    "    return \"I'm sorry, I don't understand that.\"\n",
    "\n",
    "# Test the chatbot\n",
    "user_input = input(\"You: \")\n",
    "response = chatbot_response(user_input)\n",
    "print(\"Chatbot:\", response)\n"
   ]
  },
  {
   "cell_type": "code",
   "execution_count": null,
   "id": "354dd053",
   "metadata": {},
   "outputs": [],
   "source": []
  }
 ],
 "metadata": {
  "kernelspec": {
   "display_name": "Python 3 (ipykernel)",
   "language": "python",
   "name": "python3"
  },
  "language_info": {
   "codemirror_mode": {
    "name": "ipython",
    "version": 3
   },
   "file_extension": ".py",
   "mimetype": "text/x-python",
   "name": "python",
   "nbconvert_exporter": "python",
   "pygments_lexer": "ipython3",
   "version": "3.11.4"
  }
 },
 "nbformat": 4,
 "nbformat_minor": 5
}
